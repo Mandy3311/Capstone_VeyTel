{
 "cells": [
  {
   "cell_type": "code",
   "execution_count": 1,
   "id": "ea762b9d-a89d-4d6b-9b4b-9772317918b8",
   "metadata": {},
   "outputs": [],
   "source": [
    "import os\n",
    "import numpy as np\n",
    "import torch\n",
    "import torchvision\n",
    "from PIL import Image\n",
    "from torchvision import datasets, transforms\n",
    "from torch.utils.data import DataLoader\n",
    "from transformers import ViTForImageClassification, ViTConfig\n",
    "import torch.nn.init as init\n",
    "from torch import optim"
   ]
  },
  {
   "cell_type": "code",
   "execution_count": 3,
   "id": "b43b42d0-c15c-4634-9b3f-ea59ba0ee9f1",
   "metadata": {},
   "outputs": [],
   "source": [
    "class CustomImageDataset(torchvision.datasets.VisionDataset):\n",
    "    def __init__(self, root, transform=None, target_transform=None):\n",
    "        super().__init__(root, transform=transform, target_transform=target_transform)\n",
    "        # Assuming that the images are organized in subfolders representing classes.\n",
    "        self.classes, self.class_to_idx = self._find_classes(root)\n",
    "        self.samples = self.make_dataset(root, self.class_to_idx)\n",
    "        self.targets = [s[1] for s in self.samples]\n",
    "\n",
    "    def _find_classes(self, dir):\n",
    "        \"\"\"\n",
    "        Finds the class folders in a dataset.\n",
    "        \"\"\"\n",
    "        if not os.path.isdir(dir):\n",
    "            raise FileNotFoundError(f\"Couldn't find directory: {dir}\")\n",
    "        classes = sorted(entry.name for entry in os.scandir(dir) if entry.is_dir())\n",
    "        class_to_idx = {cls_name: i for i, cls_name in enumerate(classes)}\n",
    "        classes = classes[0:]\n",
    "        return classes, class_to_idx\n",
    "\n",
    "    def make_dataset(self, directory, class_to_idx):\n",
    "        instances = []\n",
    "        for target_class in sorted(class_to_idx.keys()):\n",
    "            class_index = class_to_idx[target_class]\n",
    "            target_dir = os.path.join(directory, target_class)\n",
    "            if not os.path.isdir(target_dir):\n",
    "                continue\n",
    "            for root, _, fnames in sorted(os.walk(target_dir)):\n",
    "                for fname in fnames:\n",
    "                    if fname.lower().endswith(('jpg', 'jpeg', 'png', 'bmp', 'tiff', 'tif')):\n",
    "                        path = os.path.join(root, fname)\n",
    "                        instances.append((path, class_index))\n",
    "        return instances\n",
    "\n",
    "    def __getitem__(self, index):\n",
    "        \"\"\"\n",
    "        Args:\n",
    "            index (int): Index\n",
    "\n",
    "        Returns:\n",
    "            tuple: (sample, target) where target is class_index of the target class.\n",
    "        \"\"\"\n",
    "        path, target = self.samples[index]\n",
    "        \n",
    "        sample = self.loader(path)\n",
    "            \n",
    "\n",
    "        if self.transform is not None:\n",
    "            sample = self.transform(sample)\n",
    "        if self.target_transform is not None:\n",
    "            target = self.target_transform(target)\n",
    "        return sample, target\n",
    "\n",
    "    def __len__(self):\n",
    "        return len(self.samples)\n",
    "\n",
    "\n",
    "    def loader(self, path):\n",
    "        try:\n",
    "            # Open the image file, avoiding automatic resource management to control the closing process\n",
    "            with open(path, 'rb') as f:\n",
    "                image = Image.open(path)\n",
    "                if image.mode in ['I', 'F', 'I;16', 'I;16L', 'I;16B', 'I;16N']:\n",
    "                    image_array = np.array(image, dtype=np.int32)\n",
    "                    max_val = image_array.max()\n",
    "                    if max_val > 0:image = Image.fromarray((image_array / max_val * 255).astype(np.uint8))\n",
    "                if image.mode != 'RGB': image = image.convert('RGB')\n",
    "\n",
    "            return image\n",
    "        except Exception:\n",
    "            print(f\"Failed to load image {path}. Skipping.\")\n",
    "            return None\n",
    "\n",
    "\n",
    "class ClassificationVisualizeDataset(torch.utils.data.Dataset):\n",
    "\n",
    "    def __init__(self, data_dir, transforms):\n",
    "        self.data_dir   = data_dir\n",
    "        self.transforms = transforms\n",
    "\n",
    "        # This one-liner basically generates a sorted list of full paths to each image in the test directory\n",
    "        self.img_paths  = list(map(lambda fname: os.path.join(self.data_dir, fname), sorted(os.listdir(self.data_dir))))\n",
    "\n",
    "    def __len__(self):\n",
    "        return len(self.img_paths)\n",
    "\n",
    "    def __getitem__(self, idx):\n",
    "        image = Image.open(self.img_paths[idx])\n",
    "        if image.mode in ['I', 'F', 'I;16', 'I;16L', 'I;16B', 'I;16N']:\n",
    "            image_array = np.array(image, dtype=np.int32)\n",
    "            max_val = image_array.max()\n",
    "            if max_val > 0:image = Image.fromarray((image_array / max_val * 255).astype(np.uint8))\n",
    "        if image.mode != 'RGB': image = image.convert('RGB')\n",
    "        return self.transforms(image)\n",
    "\n",
    "mean=[0.4195, 0.3118, 0.1418]\n",
    "std=[0.2289, 0.2239, 0.2249]\n",
    "train_transforms = torchvision.transforms.Compose([\n",
    "    torchvision.transforms.RandomHorizontalFlip(),\n",
    "    torchvision.transforms.RandomAffine(degrees=[-15, 15], scale=(1/1.2, 1.2)),  # Random stretching\n",
    "    # torchvision.transforms.GaussianBlur(kernel_size=(7,7),sigma=(0.1,0.2)),\n",
    "    torchvision.transforms.Resize((224, 224)), \n",
    "    torchvision.transforms.ToTensor(), \n",
    "    torchvision.transforms.Normalize(mean,std)\n",
    "])\n",
    "valid_transforms = torchvision.transforms.Compose([\n",
    "    torchvision.transforms.Resize((224, 224)),\n",
    "    torchvision.transforms.ToTensor(),\n",
    "    torchvision.transforms.Normalize(mean,std)\n",
    "])\n",
    "\n",
    "TRAIN_DIR = '/ocean/projects/cis230079p/shared/CapStone-VeyTel-2024/datasets/data-clean/train'\n",
    "VAL_DIR = \"/ocean/projects/cis230079p/shared/CapStone-VeyTel-2024/datasets/data-clean/dev\"\n",
    "TEST_DIR = \"/ocean/projects/cis230079p/shared/CapStone-VeyTel-2024/datasets/data-clean/test\"\n",
    "\n",
    "train_dataset   = CustomImageDataset(TRAIN_DIR, transform= train_transforms)\n",
    "valid_dataset   = CustomImageDataset(VAL_DIR, transform= valid_transforms)\n",
    "test_dataset    = ClassificationVisualizeDataset(TEST_DIR, transforms =valid_transforms)\n",
    "\n",
    "train_loader = torch.utils.data.DataLoader(\n",
    "    dataset     = train_dataset,\n",
    "    batch_size  = 32,\n",
    "    shuffle     = True,\n",
    "    num_workers = 10,\n",
    "    pin_memory = True\n",
    ")\n",
    "\n",
    "valid_loader = torch.utils.data.DataLoader(\n",
    "    dataset     = valid_dataset,\n",
    "    batch_size  = 32,\n",
    "    shuffle     = False,\n",
    "    num_workers = 10,\n",
    "    pin_memory = True\n",
    ")\n",
    "\n",
    "test_loader = torch.utils.data.DataLoader(\n",
    "    dataset     = test_dataset,\n",
    "    batch_size  = 32,\n",
    "    shuffle     = False,\n",
    "    num_workers = 5,\n",
    "    pin_memory  = True\n",
    ")"
   ]
  },
  {
   "cell_type": "code",
   "execution_count": 4,
   "id": "1e6343b6-01c0-47b8-8eb6-e2bbeac5bb77",
   "metadata": {},
   "outputs": [
    {
     "name": "stderr",
     "output_type": "stream",
     "text": [
      "Some weights of ViTForImageClassification were not initialized from the model checkpoint at google/vit-base-patch16-224 and are newly initialized because the shapes did not match:\n",
      "- classifier.bias: found shape torch.Size([1000]) in the checkpoint and torch.Size([3]) in the model instantiated\n",
      "- classifier.weight: found shape torch.Size([1000, 768]) in the checkpoint and torch.Size([3, 768]) in the model instantiated\n",
      "You should probably TRAIN this model on a down-stream task to be able to use it for predictions and inference.\n"
     ]
    }
   ],
   "source": [
    "config = ViTConfig.from_pretrained('google/vit-base-patch16-224', num_labels=3, hidden_dropout_prob=0.1, attention_probs_dropout_prob=0.1)\n",
    "model = ViTForImageClassification.from_pretrained(\n",
    "    'google/vit-base-patch16-224',\n",
    "    config=config,\n",
    "    ignore_mismatched_sizes=True  # ignore the final classifier layer size mismatch\n",
    ")\n",
    "\n",
    "init.kaiming_normal_(model.classifier.weight, mode='fan_out')\n",
    "init.constant_(model.classifier.bias, 0)\n",
    "\n",
    "classifier_params = [\"classifier\"]\n",
    "pretrained_params = []\n",
    "classifier_parameters = []\n",
    "\n",
    "for name, param in model.named_parameters():\n",
    "    if any(cp in name for cp in classifier_params):\n",
    "        classifier_parameters.append(param)\n",
    "        weight_decay = 1e-4\n",
    "    else:\n",
    "        pretrained_params.append(param)\n",
    "        weight_decay = 0\n",
    "\n",
    "optimizer_grouped_parameters = [\n",
    "    {'params': pretrained_params, 'weight_decay': weight_decay, 'lr': 5e-6},\n",
    "    {'params': classifier_parameters, 'weight_decay': weight_decay, 'lr': 1e-4}\n",
    "]\n",
    "\n",
    "optimizer = optim.Adam(optimizer_grouped_parameters)"
   ]
  },
  {
   "cell_type": "code",
   "execution_count": 8,
   "id": "e3e78734-65a8-43bb-b151-87e3f65f59f9",
   "metadata": {},
   "outputs": [],
   "source": [
    "# load from checkpoint\n",
    "def load_checkpoint(filepath, model, optimizer):\n",
    "    checkpoint = torch.load(filepath)\n",
    "    model.load_state_dict(checkpoint['model_state'])\n",
    "    optimizer.load_state_dict(checkpoint['optimizer_state'])\n",
    "    start_epoch = checkpoint['epoch']\n",
    "    best_val_loss = checkpoint['best_val_loss']\n",
    "    return model, optimizer, start_epoch, best_val_loss\n",
    "\n",
    "checkpoint_path = 'checkpoints/checkpoint.pth'\n",
    "model, optimizer, start_epoch, best_val_loss = load_checkpoint(checkpoint_path, model, optimizer)"
   ]
  },
  {
   "cell_type": "code",
   "execution_count": 9,
   "id": "8ae1f10a-7dd3-43d9-8cc8-e9febcb0ce19",
   "metadata": {},
   "outputs": [
    {
     "data": {
      "text/plain": [
       "ViTForImageClassification(\n",
       "  (vit): ViTModel(\n",
       "    (embeddings): ViTEmbeddings(\n",
       "      (patch_embeddings): ViTPatchEmbeddings(\n",
       "        (projection): Conv2d(3, 768, kernel_size=(16, 16), stride=(16, 16))\n",
       "      )\n",
       "      (dropout): Dropout(p=0.1, inplace=False)\n",
       "    )\n",
       "    (encoder): ViTEncoder(\n",
       "      (layer): ModuleList(\n",
       "        (0-11): 12 x ViTLayer(\n",
       "          (attention): ViTAttention(\n",
       "            (attention): ViTSelfAttention(\n",
       "              (query): Linear(in_features=768, out_features=768, bias=True)\n",
       "              (key): Linear(in_features=768, out_features=768, bias=True)\n",
       "              (value): Linear(in_features=768, out_features=768, bias=True)\n",
       "              (dropout): Dropout(p=0.1, inplace=False)\n",
       "            )\n",
       "            (output): ViTSelfOutput(\n",
       "              (dense): Linear(in_features=768, out_features=768, bias=True)\n",
       "              (dropout): Dropout(p=0.1, inplace=False)\n",
       "            )\n",
       "          )\n",
       "          (intermediate): ViTIntermediate(\n",
       "            (dense): Linear(in_features=768, out_features=3072, bias=True)\n",
       "            (intermediate_act_fn): GELUActivation()\n",
       "          )\n",
       "          (output): ViTOutput(\n",
       "            (dense): Linear(in_features=3072, out_features=768, bias=True)\n",
       "            (dropout): Dropout(p=0.1, inplace=False)\n",
       "          )\n",
       "          (layernorm_before): LayerNorm((768,), eps=1e-12, elementwise_affine=True)\n",
       "          (layernorm_after): LayerNorm((768,), eps=1e-12, elementwise_affine=True)\n",
       "        )\n",
       "      )\n",
       "    )\n",
       "    (layernorm): LayerNorm((768,), eps=1e-12, elementwise_affine=True)\n",
       "  )\n",
       "  (classifier): Linear(in_features=768, out_features=3, bias=True)\n",
       ")"
      ]
     },
     "execution_count": 9,
     "metadata": {},
     "output_type": "execute_result"
    }
   ],
   "source": [
    "device = torch.device(\"cuda\" if torch.cuda.is_available() else \"cpu\")\n",
    "model.to(device)"
   ]
  },
  {
   "cell_type": "code",
   "execution_count": 28,
   "id": "7fdb338d-1124-4901-9ead-7362da994e44",
   "metadata": {
    "tags": []
   },
   "outputs": [],
   "source": [
    "import torch\n",
    "from tqdm import tqdm\n",
    "import os\n",
    "import matplotlib.pyplot as plt\n",
    "from torch.optim.lr_scheduler import ReduceLROnPlateau\n",
    "\n",
    "def train(model, train_loader, valid_loader, optimizer, device=device, epochs=10, checkpoint_dir=None, patience=3):\n",
    "def train(model, train_loader, valid_loader, optimizer, device, epochs, checkpoint_dir, start_epoch=0, best_val_loss=float('inf')):\n",
    "    criterion = torch.nn.CrossEntropyLoss()\n",
    "    scheduler = ReduceLROnPlateau(optimizer, mode='min', factor=0.1, patience=1)\n",
    "\n",
    "    train_losses = []\n",
    "    train_accuracies = []\n",
    "    val_losses = []\n",
    "    val_accuracies = []\n",
    "    best_val_loss = float('inf')\n",
    "    # epochs_no_improve = 0 \n",
    "\n",
    "    for epoch in range(start_epoch, epochs):\n",
    "        model.train()\n",
    "        running_loss = 0.0\n",
    "        total_correct = 0\n",
    "        total_samples = 0\n",
    "\n",
    "        batch_bar = tqdm(total=len(train_loader.dataset), desc=f\"Epoch {epoch + 1}\", position=0)\n",
    "\n",
    "        for inputs, labels in train_loader:\n",
    "            inputs, labels = inputs.to(device), labels.to(device)\n",
    "\n",
    "            optimizer.zero_grad()\n",
    "            outputs = model(inputs).logits\n",
    "            loss = criterion(outputs, labels)\n",
    "            loss.backward()\n",
    "            optimizer.step()\n",
    "\n",
    "            running_loss += loss.item() * inputs.size(0)\n",
    "            _, predicted = torch.max(outputs, 1)\n",
    "            correct = (predicted == labels).sum().item()\n",
    "            total_correct += correct\n",
    "            total_samples += inputs.size(0)\n",
    "\n",
    "            batch_bar.set_postfix(\n",
    "                acc=\"{:.04f}%\".format(100 * total_correct / total_samples),\n",
    "                loss=\"{:.04f}\".format(running_loss / total_samples),\n",
    "                num_correct=total_correct\n",
    "            )\n",
    "            batch_bar.update(inputs.size(0))\n",
    "\n",
    "        batch_bar.close()\n",
    "        \n",
    "        # Calculate and append training loss and accuracy\n",
    "        train_loss = running_loss / len(train_loader.dataset)\n",
    "        train_accuracy = 100 * total_correct / total_samples\n",
    "        train_losses.append(train_loss)\n",
    "        train_accuracies.append(train_accuracy)\n",
    "\n",
    "        # Validate and append validation loss and accuracy\n",
    "        val_loss, val_accuracy = validate(model, valid_loader, device)\n",
    "        val_losses.append(val_loss)\n",
    "        val_accuracies.append(val_accuracy)\n",
    "\n",
    "        scheduler.step(val_loss)\n",
    "        print(f'Current learning rate is {scheduler.get_last_lr()}')\n",
    "\n",
    "        # Checkpoint saving\n",
    "        if val_loss < best_val_loss:\n",
    "            best_val_loss = val_loss\n",
    "            checkpoint = {\n",
    "                'epoch': epoch + 1,\n",
    "                'model_state': model.state_dict(),\n",
    "                'optimizer_state': optimizer.state_dict(),\n",
    "                'best_val_loss': best_val_loss,\n",
    "            }\n",
    "            torch.save(checkpoint, os.path.join(checkpoint_dir, f\"checkpoint.pth\"))\n",
    "            print(f\"Checkpoint saved with validation loss {val_loss:.4f}.\")\n",
    "        # else:\n",
    "        #     epochs_no_improve += 1\n",
    "        #     if epochs_no_improve >= patience:\n",
    "        #         print(f\"Early stopping triggered after {epoch + 1} epochs.\")\n",
    "        #         break\n",
    "    \n",
    "    final_model_path = os.path.join(checkpoint_dir, f'final_model_{epoch + 1}.pth')\n",
    "    torch.save(model.state_dict(), final_model_path)\n",
    "    print(f\"Final model state saved to {final_model_path}\")\n",
    "    \n",
    "    # Plot training and validation losses\n",
    "    plt.figure(figsize=(10, 5))\n",
    "    plt.plot(train_losses, label='Train Loss')\n",
    "    plt.plot(val_losses, label='Validation Loss')\n",
    "    plt.xlabel('Epochs')\n",
    "    plt.ylabel('Loss')\n",
    "    plt.title('Training and Validation Losses')\n",
    "    plt.legend()\n",
    "    plt.show()\n",
    "\n",
    "def validate(model, valid_loader, device):\n",
    "    model.eval()\n",
    "    total_loss = 0.0\n",
    "    criterion = torch.nn.CrossEntropyLoss()\n",
    "    total_samples = 0\n",
    "    total_correct = 0\n",
    "\n",
    "    for inputs, labels in valid_loader:\n",
    "        inputs, labels = inputs.to(device), labels.to(device)\n",
    "        outputs = model(inputs).logits\n",
    "        loss = criterion(outputs, labels)\n",
    "        total_loss += loss.item() * inputs.size(0)\n",
    "        _, predicted = torch.max(outputs, 1)\n",
    "        total_correct += (predicted == labels).sum().item()\n",
    "        total_samples += inputs.size(0)\n",
    "\n",
    "    validation_loss = total_loss / len(valid_loader.dataset)\n",
    "    validation_accuracy = 100 * total_correct / total_samples\n",
    "    print(f'Validation Loss: {validation_loss:.4f}')\n",
    "    print(f'Validation Accuracy: {validation_accuracy:.2f}%')\n",
    "    return validation_loss, validation_accuracy"
   ]
  },
  {
   "cell_type": "code",
   "execution_count": null,
   "id": "dde33434-136f-42a6-9665-ea2bb33bccb4",
   "metadata": {},
   "outputs": [
    {
     "name": "stderr",
     "output_type": "stream",
     "text": [
      "Epoch 1: 100%|██████████| 19588/19588 [14:19<00:00, 22.79it/s, acc=54.1556%, loss=2.3711, num_correct=10608]\n"
     ]
    },
    {
     "name": "stdout",
     "output_type": "stream",
     "text": [
      "Validation Loss: 1.1076\n",
      "Validation Accuracy: 64.95%\n",
      "Current learning rate is [5e-06, 0.0001]\n",
      "Checkpoint saved with validation loss 1.1076.\n"
     ]
    },
    {
     "name": "stderr",
     "output_type": "stream",
     "text": [
      "Epoch 2: 100%|██████████| 19588/19588 [17:32<00:00, 18.62it/s, acc=56.1824%, loss=2.0534, num_correct=11005]\n"
     ]
    },
    {
     "name": "stdout",
     "output_type": "stream",
     "text": [
      "Validation Loss: 1.0140\n",
      "Validation Accuracy: 67.97%\n",
      "Current learning rate is [5e-06, 0.0001]\n",
      "Checkpoint saved with validation loss 1.0140.\n"
     ]
    },
    {
     "name": "stderr",
     "output_type": "stream",
     "text": [
      "Epoch 3: 100%|██████████| 19588/19588 [16:47<00:00, 19.43it/s, acc=58.1070%, loss=1.7528, num_correct=11382]\n"
     ]
    },
    {
     "name": "stdout",
     "output_type": "stream",
     "text": [
      "Validation Loss: 0.9792\n",
      "Validation Accuracy: 68.06%\n",
      "Current learning rate is [5e-06, 0.0001]\n",
      "Checkpoint saved with validation loss 0.9792.\n"
     ]
    },
    {
     "name": "stderr",
     "output_type": "stream",
     "text": [
      "Epoch 4: 100%|██████████| 19588/19588 [14:20<00:00, 22.76it/s, acc=59.1025%, loss=1.5860, num_correct=11577]\n"
     ]
    },
    {
     "name": "stdout",
     "output_type": "stream",
     "text": [
      "Validation Loss: 1.0405\n",
      "Validation Accuracy: 67.16%\n",
      "Current learning rate is [5e-06, 0.0001]\n"
     ]
    },
    {
     "name": "stderr",
     "output_type": "stream",
     "text": [
      "Epoch 5: 100%|██████████| 19588/19588 [16:21<00:00, 19.95it/s, acc=58.6022%, loss=1.5451, num_correct=11479]\n"
     ]
    },
    {
     "name": "stdout",
     "output_type": "stream",
     "text": [
      "Validation Loss: 0.8732\n",
      "Validation Accuracy: 68.95%\n",
      "Current learning rate is [5e-06, 0.0001]\n",
      "Checkpoint saved with validation loss 0.8732.\n"
     ]
    },
    {
     "name": "stderr",
     "output_type": "stream",
     "text": [
      "Epoch 6: 100%|██████████| 19588/19588 [14:19<00:00, 22.78it/s, acc=60.7821%, loss=1.3400, num_correct=11906]\n"
     ]
    },
    {
     "name": "stdout",
     "output_type": "stream",
     "text": [
      "Validation Loss: 0.9057\n",
      "Validation Accuracy: 66.58%\n",
      "Current learning rate is [5e-06, 0.0001]\n"
     ]
    },
    {
     "name": "stderr",
     "output_type": "stream",
     "text": [
      "Epoch 7: 100%|██████████| 19588/19588 [20:46<00:00, 15.71it/s, acc=61.5785%, loss=1.2618, num_correct=12062] \n"
     ]
    },
    {
     "name": "stdout",
     "output_type": "stream",
     "text": [
      "Validation Loss: 0.8224\n",
      "Validation Accuracy: 67.65%\n",
      "Current learning rate is [5e-06, 0.0001]\n",
      "Checkpoint saved with validation loss 0.8224.\n"
     ]
    },
    {
     "name": "stderr",
     "output_type": "stream",
     "text": [
      "Epoch 8: 100%|██████████| 19588/19588 [20:19<00:00, 16.06it/s, acc=61.7929%, loss=1.1951, num_correct=12104]  \n"
     ]
    },
    {
     "name": "stdout",
     "output_type": "stream",
     "text": [
      "Validation Loss: 0.8122\n",
      "Validation Accuracy: 67.81%\n",
      "Current learning rate is [5e-06, 0.0001]\n",
      "Checkpoint saved with validation loss 0.8122.\n"
     ]
    },
    {
     "name": "stderr",
     "output_type": "stream",
     "text": [
      "Epoch 9: 100%|██████████| 19588/19588 [17:49<00:00, 18.31it/s, acc=62.9467%, loss=1.0992, num_correct=12330] \n"
     ]
    },
    {
     "name": "stdout",
     "output_type": "stream",
     "text": [
      "Validation Loss: 0.8862\n",
      "Validation Accuracy: 68.38%\n",
      "Current learning rate is [5e-06, 0.0001]\n"
     ]
    },
    {
     "name": "stderr",
     "output_type": "stream",
     "text": [
      "Epoch 10: 100%|██████████| 19588/19588 [14:16<00:00, 22.88it/s, acc=63.1509%, loss=1.0605, num_correct=12370]\n"
     ]
    },
    {
     "name": "stdout",
     "output_type": "stream",
     "text": [
      "Validation Loss: 0.7719\n",
      "Validation Accuracy: 69.85%\n",
      "Current learning rate is [5e-06, 0.0001]\n",
      "Checkpoint saved with validation loss 0.7719.\n"
     ]
    },
    {
     "name": "stderr",
     "output_type": "stream",
     "text": [
      "Epoch 11: 100%|██████████| 19588/19588 [14:45<00:00, 22.12it/s, acc=63.9473%, loss=1.0160, num_correct=12526]\n"
     ]
    },
    {
     "name": "stdout",
     "output_type": "stream",
     "text": [
      "Validation Loss: 0.7574\n",
      "Validation Accuracy: 71.16%\n",
      "Current learning rate is [5e-06, 0.0001]\n",
      "Checkpoint saved with validation loss 0.7574.\n"
     ]
    },
    {
     "name": "stderr",
     "output_type": "stream",
     "text": [
      "Epoch 12: 100%|██████████| 19588/19588 [14:51<00:00, 21.96it/s, acc=64.4068%, loss=0.9718, num_correct=12616]\n"
     ]
    },
    {
     "name": "stdout",
     "output_type": "stream",
     "text": [
      "Validation Loss: 0.7355\n",
      "Validation Accuracy: 70.59%\n",
      "Current learning rate is [5e-06, 0.0001]\n",
      "Checkpoint saved with validation loss 0.7355.\n"
     ]
    },
    {
     "name": "stderr",
     "output_type": "stream",
     "text": [
      "Epoch 13: 100%|██████████| 19588/19588 [19:49<00:00, 16.46it/s, acc=64.8713%, loss=0.9240, num_correct=12707]\n"
     ]
    },
    {
     "name": "stdout",
     "output_type": "stream",
     "text": [
      "Validation Loss: 0.7197\n",
      "Validation Accuracy: 70.42%\n",
      "Current learning rate is [5e-06, 0.0001]\n",
      "Checkpoint saved with validation loss 0.7197.\n"
     ]
    },
    {
     "name": "stderr",
     "output_type": "stream",
     "text": [
      "Epoch 14: 100%|██████████| 19588/19588 [14:01<00:00, 23.28it/s, acc=65.1521%, loss=0.9118, num_correct=12762]\n"
     ]
    },
    {
     "name": "stdout",
     "output_type": "stream",
     "text": [
      "Validation Loss: 0.7035\n",
      "Validation Accuracy: 71.16%\n",
      "Current learning rate is [5e-06, 0.0001]\n",
      "Checkpoint saved with validation loss 0.7035.\n"
     ]
    },
    {
     "name": "stderr",
     "output_type": "stream",
     "text": [
      "Epoch 15: 100%|██████████| 19588/19588 [14:10<00:00, 23.03it/s, acc=65.9945%, loss=0.8779, num_correct=12927]\n"
     ]
    },
    {
     "name": "stdout",
     "output_type": "stream",
     "text": [
      "Validation Loss: 0.7094\n",
      "Validation Accuracy: 71.32%\n",
      "Current learning rate is [5e-06, 0.0001]\n"
     ]
    },
    {
     "name": "stderr",
     "output_type": "stream",
     "text": [
      "Epoch 16: 100%|██████████| 19588/19588 [13:56<00:00, 23.42it/s, acc=66.5203%, loss=0.8418, num_correct=13030]\n"
     ]
    },
    {
     "name": "stdout",
     "output_type": "stream",
     "text": [
      "Validation Loss: 0.7128\n",
      "Validation Accuracy: 71.24%\n",
      "Current learning rate is [5.000000000000001e-07, 1e-05]\n"
     ]
    },
    {
     "name": "stderr",
     "output_type": "stream",
     "text": [
      "Epoch 17: 100%|██████████| 19588/19588 [14:12<00:00, 22.96it/s, acc=67.4750%, loss=0.7928, num_correct=13217]\n"
     ]
    },
    {
     "name": "stdout",
     "output_type": "stream",
     "text": [
      "Validation Loss: 0.6760\n",
      "Validation Accuracy: 71.65%\n",
      "Current learning rate is [5.000000000000001e-07, 1e-05]\n",
      "Checkpoint saved with validation loss 0.6760.\n"
     ]
    },
    {
     "name": "stderr",
     "output_type": "stream",
     "text": [
      "Epoch 18: 100%|██████████| 19588/19588 [14:23<00:00, 22.69it/s, acc=68.3122%, loss=0.7766, num_correct=13381]\n"
     ]
    },
    {
     "name": "stdout",
     "output_type": "stream",
     "text": [
      "Validation Loss: 0.6804\n",
      "Validation Accuracy: 70.75%\n",
      "Current learning rate is [5.000000000000001e-07, 1e-05]\n"
     ]
    },
    {
     "name": "stderr",
     "output_type": "stream",
     "text": [
      "Epoch 19: 100%|██████████| 19588/19588 [15:04<00:00, 21.66it/s, acc=68.6339%, loss=0.7690, num_correct=13444]\n"
     ]
    },
    {
     "name": "stdout",
     "output_type": "stream",
     "text": [
      "Validation Loss: 0.6897\n",
      "Validation Accuracy: 70.67%\n",
      "Current learning rate is [5.000000000000001e-08, 1.0000000000000002e-06]\n"
     ]
    },
    {
     "name": "stderr",
     "output_type": "stream",
     "text": [
      "Epoch 20:  18%|█▊        | 3520/19588 [02:33<05:15, 50.86it/s, acc=66.7045%, loss=0.7910, num_correct=2348]"
     ]
    }
   ],
   "source": [
    "train(model, train_loader, valid_loader, optimizer, epochs=30, checkpoint_dir='checkpoints')"
   ]
  },
  {
   "cell_type": "code",
   "execution_count": 7,
   "id": "f4c2200c-cb38-4a84-b440-65f9a28e8c0f",
   "metadata": {},
   "outputs": [
    {
     "name": "stderr",
     "output_type": "stream",
     "text": [
      "Epoch 1: 100%|██████████| 19588/19588 [14:06<00:00, 23.13it/s, acc=48.6829%, loss=4.3610, lr=0.000010, num_correct=9536]\n"
     ]
    },
    {
     "name": "stdout",
     "output_type": "stream",
     "text": [
      "Validation Loss: 1.4560\n",
      "Validation Accuracy: 63.73%\n",
      "Checkpoint saved with validation loss 1.4560.\n"
     ]
    },
    {
     "name": "stderr",
     "output_type": "stream",
     "text": [
      "Epoch 2: 100%|██████████| 19588/19588 [24:33<00:00, 13.30it/s, acc=53.8085%, loss=2.8218, lr=0.000010, num_correct=10540]\n"
     ]
    },
    {
     "name": "stdout",
     "output_type": "stream",
     "text": [
      "Validation Loss: 1.3408\n",
      "Validation Accuracy: 66.01%\n",
      "Checkpoint saved with validation loss 1.3408.\n"
     ]
    },
    {
     "name": "stderr",
     "output_type": "stream",
     "text": [
      "Epoch 3: 100%|██████████| 19588/19588 [13:13<00:00, 24.69it/s, acc=55.9220%, loss=2.2320, lr=0.000010, num_correct=10954]\n"
     ]
    },
    {
     "name": "stdout",
     "output_type": "stream",
     "text": [
      "Validation Loss: 1.1789\n",
      "Validation Accuracy: 67.40%\n",
      "Checkpoint saved with validation loss 1.1789.\n"
     ]
    },
    {
     "name": "stderr",
     "output_type": "stream",
     "text": [
      "Epoch 4: 100%|██████████| 19588/19588 [14:52<00:00, 21.95it/s, acc=57.3668%, loss=1.8392, lr=0.000010, num_correct=11237]\n"
     ]
    },
    {
     "name": "stdout",
     "output_type": "stream",
     "text": [
      "Validation Loss: 1.1031\n",
      "Validation Accuracy: 66.91%\n",
      "Checkpoint saved with validation loss 1.1031.\n"
     ]
    },
    {
     "name": "stderr",
     "output_type": "stream",
     "text": [
      "Epoch 5: 100%|██████████| 19588/19588 [12:57<00:00, 25.19it/s, acc=58.3572%, loss=1.6220, lr=0.000010, num_correct=11431]\n"
     ]
    },
    {
     "name": "stdout",
     "output_type": "stream",
     "text": [
      "Validation Loss: 0.9683\n",
      "Validation Accuracy: 66.83%\n",
      "Checkpoint saved with validation loss 0.9683.\n"
     ]
    },
    {
     "name": "stderr",
     "output_type": "stream",
     "text": [
      "Epoch 6: 100%|██████████| 19588/19588 [12:53<00:00, 25.34it/s, acc=59.9653%, loss=1.3794, lr=0.000010, num_correct=11746]\n"
     ]
    },
    {
     "name": "stdout",
     "output_type": "stream",
     "text": [
      "Validation Loss: 0.9495\n",
      "Validation Accuracy: 67.57%\n",
      "Checkpoint saved with validation loss 0.9495.\n"
     ]
    },
    {
     "name": "stderr",
     "output_type": "stream",
     "text": [
      "Epoch 7: 100%|██████████| 19588/19588 [12:53<00:00, 25.33it/s, acc=60.5830%, loss=1.2771, lr=0.000010, num_correct=11867]\n"
     ]
    },
    {
     "name": "stdout",
     "output_type": "stream",
     "text": [
      "Validation Loss: 0.9871\n",
      "Validation Accuracy: 67.24%\n"
     ]
    },
    {
     "name": "stderr",
     "output_type": "stream",
     "text": [
      "Epoch 8: 100%|██████████| 19588/19588 [12:35<00:00, 25.92it/s, acc=61.6398%, loss=1.1478, lr=0.000010, num_correct=12074]\n"
     ]
    },
    {
     "name": "stdout",
     "output_type": "stream",
     "text": [
      "Validation Loss: 0.9486\n",
      "Validation Accuracy: 67.57%\n",
      "Checkpoint saved with validation loss 0.9486.\n"
     ]
    },
    {
     "name": "stderr",
     "output_type": "stream",
     "text": [
      "Epoch 9: 100%|██████████| 19588/19588 [13:51<00:00, 23.56it/s, acc=62.4464%, loss=1.0897, lr=0.000010, num_correct=12232] \n"
     ]
    },
    {
     "name": "stdout",
     "output_type": "stream",
     "text": [
      "Validation Loss: 0.9770\n",
      "Validation Accuracy: 67.48%\n"
     ]
    },
    {
     "name": "stderr",
     "output_type": "stream",
     "text": [
      "Epoch 10: 100%|██████████| 19588/19588 [12:39<00:00, 25.78it/s, acc=63.1305%, loss=1.0107, lr=0.000010, num_correct=12366]\n"
     ]
    },
    {
     "name": "stdout",
     "output_type": "stream",
     "text": [
      "Validation Loss: 0.9167\n",
      "Validation Accuracy: 65.28%\n",
      "Checkpoint saved with validation loss 0.9167.\n"
     ]
    },
    {
     "name": "stderr",
     "output_type": "stream",
     "text": [
      "Epoch 11: 100%|██████████| 19588/19588 [13:23<00:00, 24.38it/s, acc=63.6461%, loss=0.9790, lr=0.000010, num_correct=12467]\n"
     ]
    },
    {
     "name": "stdout",
     "output_type": "stream",
     "text": [
      "Validation Loss: 0.8434\n",
      "Validation Accuracy: 68.87%\n",
      "Checkpoint saved with validation loss 0.8434.\n"
     ]
    },
    {
     "name": "stderr",
     "output_type": "stream",
     "text": [
      "Epoch 12: 100%|██████████| 19588/19588 [13:23<00:00, 24.38it/s, acc=64.7488%, loss=0.9038, lr=0.000010, num_correct=12683]\n"
     ]
    },
    {
     "name": "stdout",
     "output_type": "stream",
     "text": [
      "Validation Loss: 0.8074\n",
      "Validation Accuracy: 66.42%\n",
      "Checkpoint saved with validation loss 0.8074.\n"
     ]
    },
    {
     "name": "stderr",
     "output_type": "stream",
     "text": [
      "Epoch 13: 100%|██████████| 19588/19588 [12:47<00:00, 25.51it/s, acc=65.2593%, loss=0.8670, lr=0.000010, num_correct=12783]\n"
     ]
    },
    {
     "name": "stdout",
     "output_type": "stream",
     "text": [
      "Validation Loss: 1.0228\n",
      "Validation Accuracy: 66.18%\n"
     ]
    },
    {
     "name": "stderr",
     "output_type": "stream",
     "text": [
      "Epoch 14: 100%|██████████| 19588/19588 [13:25<00:00, 24.33it/s, acc=65.5708%, loss=0.8456, lr=0.000010, num_correct=12844]\n"
     ]
    },
    {
     "name": "stdout",
     "output_type": "stream",
     "text": [
      "Validation Loss: 0.7685\n",
      "Validation Accuracy: 70.75%\n",
      "Checkpoint saved with validation loss 0.7685.\n"
     ]
    },
    {
     "name": "stderr",
     "output_type": "stream",
     "text": [
      "Epoch 15: 100%|██████████| 19588/19588 [19:09<00:00, 17.04it/s, acc=67.0155%, loss=0.7993, lr=0.000010, num_correct=13127]\n"
     ]
    },
    {
     "name": "stdout",
     "output_type": "stream",
     "text": [
      "Validation Loss: 0.8110\n",
      "Validation Accuracy: 68.63%\n"
     ]
    },
    {
     "name": "stderr",
     "output_type": "stream",
     "text": [
      "Epoch 16: 100%|██████████| 19588/19588 [13:26<00:00, 24.28it/s, acc=66.7041%, loss=0.8071, lr=0.000010, num_correct=13066]\n"
     ]
    },
    {
     "name": "stdout",
     "output_type": "stream",
     "text": [
      "Validation Loss: 0.7470\n",
      "Validation Accuracy: 68.46%\n",
      "Checkpoint saved with validation loss 0.7470.\n"
     ]
    },
    {
     "name": "stderr",
     "output_type": "stream",
     "text": [
      "Epoch 17: 100%|██████████| 19588/19588 [13:27<00:00, 24.26it/s, acc=67.0615%, loss=0.7808, lr=0.000010, num_correct=13136]\n"
     ]
    },
    {
     "name": "stdout",
     "output_type": "stream",
     "text": [
      "Validation Loss: 0.7553\n",
      "Validation Accuracy: 69.93%\n"
     ]
    },
    {
     "name": "stderr",
     "output_type": "stream",
     "text": [
      "Epoch 18: 100%|██████████| 19588/19588 [27:57<00:00, 11.68it/s, acc=68.0978%, loss=0.7469, lr=0.000010, num_correct=13339]\n"
     ]
    },
    {
     "name": "stdout",
     "output_type": "stream",
     "text": [
      "Validation Loss: 0.7576\n",
      "Validation Accuracy: 66.99%\n"
     ]
    },
    {
     "name": "stderr",
     "output_type": "stream",
     "text": [
      "Epoch 19: 100%|██████████| 19588/19588 [13:15<00:00, 24.64it/s, acc=69.6804%, loss=0.6845, lr=0.000001, num_correct=13649]\n"
     ]
    },
    {
     "name": "stdout",
     "output_type": "stream",
     "text": [
      "Validation Loss: 0.7101\n",
      "Validation Accuracy: 70.83%\n",
      "Checkpoint saved with validation loss 0.7101.\n"
     ]
    },
    {
     "name": "stderr",
     "output_type": "stream",
     "text": [
      "Epoch 20: 100%|██████████| 19588/19588 [13:45<00:00, 23.72it/s, acc=70.2573%, loss=0.6796, lr=0.000001, num_correct=13762]\n"
     ]
    },
    {
     "name": "stdout",
     "output_type": "stream",
     "text": [
      "Validation Loss: 0.7674\n",
      "Validation Accuracy: 68.14%\n"
     ]
    },
    {
     "name": "stderr",
     "output_type": "stream",
     "text": [
      "Epoch 21: 100%|██████████| 19588/19588 [12:52<00:00, 25.34it/s, acc=70.1654%, loss=0.6759, lr=0.000001, num_correct=13744]\n"
     ]
    },
    {
     "name": "stdout",
     "output_type": "stream",
     "text": [
      "Validation Loss: 0.7447\n",
      "Validation Accuracy: 70.92%\n"
     ]
    },
    {
     "name": "stderr",
     "output_type": "stream",
     "text": [
      "Epoch 22: 100%|██████████| 19588/19588 [23:27<00:00, 13.91it/s, acc=70.4002%, loss=0.6683, lr=0.000000, num_correct=13790]  \n"
     ]
    },
    {
     "name": "stdout",
     "output_type": "stream",
     "text": [
      "Validation Loss: 0.7253\n",
      "Validation Accuracy: 70.34%\n"
     ]
    },
    {
     "name": "stderr",
     "output_type": "stream",
     "text": [
      "Epoch 23: 100%|██████████| 19588/19588 [14:15<00:00, 22.89it/s, acc=70.1297%, loss=0.6771, lr=0.000000, num_correct=13737]\n"
     ]
    },
    {
     "name": "stdout",
     "output_type": "stream",
     "text": [
      "Validation Loss: 0.7232\n",
      "Validation Accuracy: 70.67%\n"
     ]
    },
    {
     "name": "stderr",
     "output_type": "stream",
     "text": [
      "Epoch 24: 100%|██████████| 19588/19588 [12:39<00:00, 25.80it/s, acc=70.9108%, loss=0.6665, lr=0.000000, num_correct=13890]\n"
     ]
    },
    {
     "name": "stdout",
     "output_type": "stream",
     "text": [
      "Validation Loss: 0.7243\n",
      "Validation Accuracy: 70.42%\n"
     ]
    },
    {
     "name": "stderr",
     "output_type": "stream",
     "text": [
      "Epoch 25: 100%|██████████| 19588/19588 [12:45<00:00, 25.60it/s, acc=70.5432%, loss=0.6664, lr=0.000000, num_correct=13818]\n"
     ]
    },
    {
     "name": "stdout",
     "output_type": "stream",
     "text": [
      "Validation Loss: 0.7247\n",
      "Validation Accuracy: 70.51%\n"
     ]
    },
    {
     "name": "stderr",
     "output_type": "stream",
     "text": [
      "Epoch 26: 100%|██████████| 19588/19588 [12:41<00:00, 25.72it/s, acc=70.6300%, loss=0.6685, lr=0.000000, num_correct=13835]\n"
     ]
    },
    {
     "name": "stdout",
     "output_type": "stream",
     "text": [
      "Validation Loss: 0.7240\n",
      "Validation Accuracy: 70.51%\n"
     ]
    },
    {
     "name": "stderr",
     "output_type": "stream",
     "text": [
      "Epoch 27: 100%|██████████| 19588/19588 [13:18<00:00, 24.52it/s, acc=70.5891%, loss=0.6703, lr=0.000000, num_correct=13827]\n"
     ]
    },
    {
     "name": "stdout",
     "output_type": "stream",
     "text": [
      "Validation Loss: 0.7249\n",
      "Validation Accuracy: 70.51%\n"
     ]
    },
    {
     "name": "stderr",
     "output_type": "stream",
     "text": [
      "Epoch 28: 100%|██████████| 19588/19588 [13:03<00:00, 25.00it/s, acc=70.6861%, loss=0.6630, lr=0.000000, num_correct=13846]\n"
     ]
    },
    {
     "name": "stdout",
     "output_type": "stream",
     "text": [
      "Validation Loss: 0.7240\n",
      "Validation Accuracy: 70.51%\n"
     ]
    },
    {
     "name": "stderr",
     "output_type": "stream",
     "text": [
      "Epoch 29:  20%|█▉        | 3840/19588 [02:34<03:41, 71.09it/s, acc=69.9479%, loss=0.6773, lr=0.000000, num_correct=2686]/var/tmp/ipykernel_27451/3998663737.py:63: DeprecationWarning: An exception was ignored while fetching the attribute `__array_interface__` from an object of type 'PngImageFile'.  With the exception of `AttributeError` NumPy will always raise this exception in the future.  Raise this deprecation warning to see the original exception. (Warning added NumPy 1.21)\n",
      "  image_array = np.array(image, dtype=np.int32)\n"
     ]
    },
    {
     "name": "stdout",
     "output_type": "stream",
     "text": [
      "Failed to load image /ocean/projects/cis230079p/shared/CapStone-VeyTel-2024/datasets/data-clean/train/1/18872_bimcv_pos.png. Skipping.\n"
     ]
    },
    {
     "ename": "KeyboardInterrupt",
     "evalue": "",
     "output_type": "error",
     "traceback": [
      "\u001b[0;31m---------------------------------------------------------------------------\u001b[0m",
      "\u001b[0;31mKeyboardInterrupt\u001b[0m                         Traceback (most recent call last)",
      "\u001b[0;32m/var/tmp/ipykernel_27451/2187427869.py\u001b[0m in \u001b[0;36m<module>\u001b[0;34m\u001b[0m\n\u001b[0;32m----> 1\u001b[0;31m \u001b[0mtrain\u001b[0m\u001b[0;34m(\u001b[0m\u001b[0mmodel\u001b[0m\u001b[0;34m,\u001b[0m \u001b[0mtrain_loader\u001b[0m\u001b[0;34m,\u001b[0m \u001b[0mvalid_loader\u001b[0m\u001b[0;34m,\u001b[0m \u001b[0mepochs\u001b[0m\u001b[0;34m=\u001b[0m\u001b[0;36m50\u001b[0m\u001b[0;34m)\u001b[0m\u001b[0;34m\u001b[0m\u001b[0;34m\u001b[0m\u001b[0m\n\u001b[0m",
      "\u001b[0;32m/var/tmp/ipykernel_27451/2191005576.py\u001b[0m in \u001b[0;36mtrain\u001b[0;34m(model, train_loader, valid_loader, device, epochs, checkpoint_dir, patience)\u001b[0m\n\u001b[1;32m     21\u001b[0m         \u001b[0mbatch_bar\u001b[0m \u001b[0;34m=\u001b[0m \u001b[0mtqdm\u001b[0m\u001b[0;34m(\u001b[0m\u001b[0mtotal\u001b[0m\u001b[0;34m=\u001b[0m\u001b[0mlen\u001b[0m\u001b[0;34m(\u001b[0m\u001b[0mtrain_loader\u001b[0m\u001b[0;34m.\u001b[0m\u001b[0mdataset\u001b[0m\u001b[0;34m)\u001b[0m\u001b[0;34m,\u001b[0m \u001b[0mdesc\u001b[0m\u001b[0;34m=\u001b[0m\u001b[0;34mf\"Epoch {epoch + 1}\"\u001b[0m\u001b[0;34m,\u001b[0m \u001b[0mposition\u001b[0m\u001b[0;34m=\u001b[0m\u001b[0;36m0\u001b[0m\u001b[0;34m)\u001b[0m\u001b[0;34m\u001b[0m\u001b[0;34m\u001b[0m\u001b[0m\n\u001b[1;32m     22\u001b[0m \u001b[0;34m\u001b[0m\u001b[0m\n\u001b[0;32m---> 23\u001b[0;31m         \u001b[0;32mfor\u001b[0m \u001b[0minputs\u001b[0m\u001b[0;34m,\u001b[0m \u001b[0mlabels\u001b[0m \u001b[0;32min\u001b[0m \u001b[0mtrain_loader\u001b[0m\u001b[0;34m:\u001b[0m\u001b[0;34m\u001b[0m\u001b[0;34m\u001b[0m\u001b[0m\n\u001b[0m\u001b[1;32m     24\u001b[0m             \u001b[0minputs\u001b[0m\u001b[0;34m,\u001b[0m \u001b[0mlabels\u001b[0m \u001b[0;34m=\u001b[0m \u001b[0minputs\u001b[0m\u001b[0;34m.\u001b[0m\u001b[0mto\u001b[0m\u001b[0;34m(\u001b[0m\u001b[0mdevice\u001b[0m\u001b[0;34m)\u001b[0m\u001b[0;34m,\u001b[0m \u001b[0mlabels\u001b[0m\u001b[0;34m.\u001b[0m\u001b[0mto\u001b[0m\u001b[0;34m(\u001b[0m\u001b[0mdevice\u001b[0m\u001b[0;34m)\u001b[0m\u001b[0;34m\u001b[0m\u001b[0;34m\u001b[0m\u001b[0m\n\u001b[1;32m     25\u001b[0m \u001b[0;34m\u001b[0m\u001b[0m\n",
      "\u001b[0;32m~/.local/lib/python3.9/site-packages/torch/utils/data/dataloader.py\u001b[0m in \u001b[0;36m__next__\u001b[0;34m(self)\u001b[0m\n\u001b[1;32m    629\u001b[0m                 \u001b[0;31m# TODO(https://github.com/pytorch/pytorch/issues/76750)\u001b[0m\u001b[0;34m\u001b[0m\u001b[0;34m\u001b[0m\u001b[0m\n\u001b[1;32m    630\u001b[0m                 \u001b[0mself\u001b[0m\u001b[0;34m.\u001b[0m\u001b[0m_reset\u001b[0m\u001b[0;34m(\u001b[0m\u001b[0;34m)\u001b[0m  \u001b[0;31m# type: ignore[call-arg]\u001b[0m\u001b[0;34m\u001b[0m\u001b[0;34m\u001b[0m\u001b[0m\n\u001b[0;32m--> 631\u001b[0;31m             \u001b[0mdata\u001b[0m \u001b[0;34m=\u001b[0m \u001b[0mself\u001b[0m\u001b[0;34m.\u001b[0m\u001b[0m_next_data\u001b[0m\u001b[0;34m(\u001b[0m\u001b[0;34m)\u001b[0m\u001b[0;34m\u001b[0m\u001b[0;34m\u001b[0m\u001b[0m\n\u001b[0m\u001b[1;32m    632\u001b[0m             \u001b[0mself\u001b[0m\u001b[0;34m.\u001b[0m\u001b[0m_num_yielded\u001b[0m \u001b[0;34m+=\u001b[0m \u001b[0;36m1\u001b[0m\u001b[0;34m\u001b[0m\u001b[0;34m\u001b[0m\u001b[0m\n\u001b[1;32m    633\u001b[0m             \u001b[0;32mif\u001b[0m \u001b[0mself\u001b[0m\u001b[0;34m.\u001b[0m\u001b[0m_dataset_kind\u001b[0m \u001b[0;34m==\u001b[0m \u001b[0m_DatasetKind\u001b[0m\u001b[0;34m.\u001b[0m\u001b[0mIterable\u001b[0m \u001b[0;32mand\u001b[0m\u001b[0;31m \u001b[0m\u001b[0;31m\\\u001b[0m\u001b[0;34m\u001b[0m\u001b[0;34m\u001b[0m\u001b[0m\n",
      "\u001b[0;32m~/.local/lib/python3.9/site-packages/torch/utils/data/dataloader.py\u001b[0m in \u001b[0;36m_next_data\u001b[0;34m(self)\u001b[0m\n\u001b[1;32m   1327\u001b[0m \u001b[0;34m\u001b[0m\u001b[0m\n\u001b[1;32m   1328\u001b[0m             \u001b[0;32massert\u001b[0m \u001b[0;32mnot\u001b[0m \u001b[0mself\u001b[0m\u001b[0;34m.\u001b[0m\u001b[0m_shutdown\u001b[0m \u001b[0;32mand\u001b[0m \u001b[0mself\u001b[0m\u001b[0;34m.\u001b[0m\u001b[0m_tasks_outstanding\u001b[0m \u001b[0;34m>\u001b[0m \u001b[0;36m0\u001b[0m\u001b[0;34m\u001b[0m\u001b[0;34m\u001b[0m\u001b[0m\n\u001b[0;32m-> 1329\u001b[0;31m             \u001b[0midx\u001b[0m\u001b[0;34m,\u001b[0m \u001b[0mdata\u001b[0m \u001b[0;34m=\u001b[0m \u001b[0mself\u001b[0m\u001b[0;34m.\u001b[0m\u001b[0m_get_data\u001b[0m\u001b[0;34m(\u001b[0m\u001b[0;34m)\u001b[0m\u001b[0;34m\u001b[0m\u001b[0;34m\u001b[0m\u001b[0m\n\u001b[0m\u001b[1;32m   1330\u001b[0m             \u001b[0mself\u001b[0m\u001b[0;34m.\u001b[0m\u001b[0m_tasks_outstanding\u001b[0m \u001b[0;34m-=\u001b[0m \u001b[0;36m1\u001b[0m\u001b[0;34m\u001b[0m\u001b[0;34m\u001b[0m\u001b[0m\n\u001b[1;32m   1331\u001b[0m             \u001b[0;32mif\u001b[0m \u001b[0mself\u001b[0m\u001b[0;34m.\u001b[0m\u001b[0m_dataset_kind\u001b[0m \u001b[0;34m==\u001b[0m \u001b[0m_DatasetKind\u001b[0m\u001b[0;34m.\u001b[0m\u001b[0mIterable\u001b[0m\u001b[0;34m:\u001b[0m\u001b[0;34m\u001b[0m\u001b[0;34m\u001b[0m\u001b[0m\n",
      "\u001b[0;32m~/.local/lib/python3.9/site-packages/torch/utils/data/dataloader.py\u001b[0m in \u001b[0;36m_get_data\u001b[0;34m(self)\u001b[0m\n\u001b[1;32m   1283\u001b[0m         \u001b[0;32melif\u001b[0m \u001b[0mself\u001b[0m\u001b[0;34m.\u001b[0m\u001b[0m_pin_memory\u001b[0m\u001b[0;34m:\u001b[0m\u001b[0;34m\u001b[0m\u001b[0;34m\u001b[0m\u001b[0m\n\u001b[1;32m   1284\u001b[0m             \u001b[0;32mwhile\u001b[0m \u001b[0mself\u001b[0m\u001b[0;34m.\u001b[0m\u001b[0m_pin_memory_thread\u001b[0m\u001b[0;34m.\u001b[0m\u001b[0mis_alive\u001b[0m\u001b[0;34m(\u001b[0m\u001b[0;34m)\u001b[0m\u001b[0;34m:\u001b[0m\u001b[0;34m\u001b[0m\u001b[0;34m\u001b[0m\u001b[0m\n\u001b[0;32m-> 1285\u001b[0;31m                 \u001b[0msuccess\u001b[0m\u001b[0;34m,\u001b[0m \u001b[0mdata\u001b[0m \u001b[0;34m=\u001b[0m \u001b[0mself\u001b[0m\u001b[0;34m.\u001b[0m\u001b[0m_try_get_data\u001b[0m\u001b[0;34m(\u001b[0m\u001b[0;34m)\u001b[0m\u001b[0;34m\u001b[0m\u001b[0;34m\u001b[0m\u001b[0m\n\u001b[0m\u001b[1;32m   1286\u001b[0m                 \u001b[0;32mif\u001b[0m \u001b[0msuccess\u001b[0m\u001b[0;34m:\u001b[0m\u001b[0;34m\u001b[0m\u001b[0;34m\u001b[0m\u001b[0m\n\u001b[1;32m   1287\u001b[0m                     \u001b[0;32mreturn\u001b[0m \u001b[0mdata\u001b[0m\u001b[0;34m\u001b[0m\u001b[0;34m\u001b[0m\u001b[0m\n",
      "\u001b[0;32m~/.local/lib/python3.9/site-packages/torch/utils/data/dataloader.py\u001b[0m in \u001b[0;36m_try_get_data\u001b[0;34m(self, timeout)\u001b[0m\n\u001b[1;32m   1131\u001b[0m         \u001b[0;31m#   (bool: whether successfully get data, any: data if successful else None)\u001b[0m\u001b[0;34m\u001b[0m\u001b[0;34m\u001b[0m\u001b[0m\n\u001b[1;32m   1132\u001b[0m         \u001b[0;32mtry\u001b[0m\u001b[0;34m:\u001b[0m\u001b[0;34m\u001b[0m\u001b[0;34m\u001b[0m\u001b[0m\n\u001b[0;32m-> 1133\u001b[0;31m             \u001b[0mdata\u001b[0m \u001b[0;34m=\u001b[0m \u001b[0mself\u001b[0m\u001b[0;34m.\u001b[0m\u001b[0m_data_queue\u001b[0m\u001b[0;34m.\u001b[0m\u001b[0mget\u001b[0m\u001b[0;34m(\u001b[0m\u001b[0mtimeout\u001b[0m\u001b[0;34m=\u001b[0m\u001b[0mtimeout\u001b[0m\u001b[0;34m)\u001b[0m\u001b[0;34m\u001b[0m\u001b[0;34m\u001b[0m\u001b[0m\n\u001b[0m\u001b[1;32m   1134\u001b[0m             \u001b[0;32mreturn\u001b[0m \u001b[0;34m(\u001b[0m\u001b[0;32mTrue\u001b[0m\u001b[0;34m,\u001b[0m \u001b[0mdata\u001b[0m\u001b[0;34m)\u001b[0m\u001b[0;34m\u001b[0m\u001b[0;34m\u001b[0m\u001b[0m\n\u001b[1;32m   1135\u001b[0m         \u001b[0;32mexcept\u001b[0m \u001b[0mException\u001b[0m \u001b[0;32mas\u001b[0m \u001b[0me\u001b[0m\u001b[0;34m:\u001b[0m\u001b[0;34m\u001b[0m\u001b[0;34m\u001b[0m\u001b[0m\n",
      "\u001b[0;32m/opt/packages/anaconda3-2022.10/lib/python3.9/queue.py\u001b[0m in \u001b[0;36mget\u001b[0;34m(self, block, timeout)\u001b[0m\n\u001b[1;32m    178\u001b[0m                     \u001b[0;32mif\u001b[0m \u001b[0mremaining\u001b[0m \u001b[0;34m<=\u001b[0m \u001b[0;36m0.0\u001b[0m\u001b[0;34m:\u001b[0m\u001b[0;34m\u001b[0m\u001b[0;34m\u001b[0m\u001b[0m\n\u001b[1;32m    179\u001b[0m                         \u001b[0;32mraise\u001b[0m \u001b[0mEmpty\u001b[0m\u001b[0;34m\u001b[0m\u001b[0;34m\u001b[0m\u001b[0m\n\u001b[0;32m--> 180\u001b[0;31m                     \u001b[0mself\u001b[0m\u001b[0;34m.\u001b[0m\u001b[0mnot_empty\u001b[0m\u001b[0;34m.\u001b[0m\u001b[0mwait\u001b[0m\u001b[0;34m(\u001b[0m\u001b[0mremaining\u001b[0m\u001b[0;34m)\u001b[0m\u001b[0;34m\u001b[0m\u001b[0;34m\u001b[0m\u001b[0m\n\u001b[0m\u001b[1;32m    181\u001b[0m             \u001b[0mitem\u001b[0m \u001b[0;34m=\u001b[0m \u001b[0mself\u001b[0m\u001b[0;34m.\u001b[0m\u001b[0m_get\u001b[0m\u001b[0;34m(\u001b[0m\u001b[0;34m)\u001b[0m\u001b[0;34m\u001b[0m\u001b[0;34m\u001b[0m\u001b[0m\n\u001b[1;32m    182\u001b[0m             \u001b[0mself\u001b[0m\u001b[0;34m.\u001b[0m\u001b[0mnot_full\u001b[0m\u001b[0;34m.\u001b[0m\u001b[0mnotify\u001b[0m\u001b[0;34m(\u001b[0m\u001b[0;34m)\u001b[0m\u001b[0;34m\u001b[0m\u001b[0;34m\u001b[0m\u001b[0m\n",
      "\u001b[0;32m/opt/packages/anaconda3-2022.10/lib/python3.9/threading.py\u001b[0m in \u001b[0;36mwait\u001b[0;34m(self, timeout)\u001b[0m\n\u001b[1;32m    314\u001b[0m             \u001b[0;32melse\u001b[0m\u001b[0;34m:\u001b[0m\u001b[0;34m\u001b[0m\u001b[0;34m\u001b[0m\u001b[0m\n\u001b[1;32m    315\u001b[0m                 \u001b[0;32mif\u001b[0m \u001b[0mtimeout\u001b[0m \u001b[0;34m>\u001b[0m \u001b[0;36m0\u001b[0m\u001b[0;34m:\u001b[0m\u001b[0;34m\u001b[0m\u001b[0;34m\u001b[0m\u001b[0m\n\u001b[0;32m--> 316\u001b[0;31m                     \u001b[0mgotit\u001b[0m \u001b[0;34m=\u001b[0m \u001b[0mwaiter\u001b[0m\u001b[0;34m.\u001b[0m\u001b[0macquire\u001b[0m\u001b[0;34m(\u001b[0m\u001b[0;32mTrue\u001b[0m\u001b[0;34m,\u001b[0m \u001b[0mtimeout\u001b[0m\u001b[0;34m)\u001b[0m\u001b[0;34m\u001b[0m\u001b[0;34m\u001b[0m\u001b[0m\n\u001b[0m\u001b[1;32m    317\u001b[0m                 \u001b[0;32melse\u001b[0m\u001b[0;34m:\u001b[0m\u001b[0;34m\u001b[0m\u001b[0;34m\u001b[0m\u001b[0m\n\u001b[1;32m    318\u001b[0m                     \u001b[0mgotit\u001b[0m \u001b[0;34m=\u001b[0m \u001b[0mwaiter\u001b[0m\u001b[0;34m.\u001b[0m\u001b[0macquire\u001b[0m\u001b[0;34m(\u001b[0m\u001b[0;32mFalse\u001b[0m\u001b[0;34m)\u001b[0m\u001b[0;34m\u001b[0m\u001b[0;34m\u001b[0m\u001b[0m\n",
      "\u001b[0;31mKeyboardInterrupt\u001b[0m: "
     ]
    },
    {
     "name": "stderr",
     "output_type": "stream",
     "text": [
      "/var/tmp/ipykernel_27451/3998663737.py:63: DeprecationWarning: An exception was ignored while fetching the attribute `__array_interface__` from an object of type 'PngImageFile'.  With the exception of `AttributeError` NumPy will always raise this exception in the future.  Raise this deprecation warning to see the original exception. (Warning added NumPy 1.21)\n",
      "  image_array = np.array(image, dtype=np.int32)\n"
     ]
    },
    {
     "name": "stdout",
     "output_type": "stream",
     "text": [
      "Failed to load image /ocean/projects/cis230079p/shared/CapStone-VeyTel-2024/datasets/data-clean/train/1/23119_bimcv_pos.png. Skipping.\n"
     ]
    },
    {
     "name": "stderr",
     "output_type": "stream",
     "text": [
      "Epoch 29:  20%|█▉        | 3840/19588 [02:47<03:41, 71.09it/s, acc=69.9479%, loss=0.6773, lr=0.000000, num_correct=2686]"
     ]
    }
   ],
   "source": [
    "train(model, train_loader, valid_loader, epochs=50)"
   ]
  },
  {
   "cell_type": "code",
   "execution_count": 5,
   "id": "6c9eb35a-5308-45c9-a1d0-e1dd86d48607",
   "metadata": {
    "tags": []
   },
   "outputs": [
    {
     "name": "stderr",
     "output_type": "stream",
     "text": [
      "Epoch 1:   0%|          | 0/19588 [00:00<?, ?it/s]/jet/home/mliu9/.local/lib/python3.9/site-packages/torch/utils/data/dataloader.py:558: UserWarning: This DataLoader will create 10 worker processes in total. Our suggested max number of worker in current system is 5, which is smaller than what this DataLoader is going to create. Please be aware that excessive worker creation might get DataLoader running slow or even freeze, lower the worker number to avoid potential slowness/freeze if necessary.\n",
      "  warnings.warn(_create_warning_msg(\n",
      "Epoch 1: 100%|██████████| 19588/19588 [14:27<00:00, 22.57it/s, acc=60.8893%, loss=0.8100, lr=0.000010, num_correct=11927]\n",
      "/jet/home/mliu9/.local/lib/python3.9/site-packages/torch/utils/data/dataloader.py:558: UserWarning: This DataLoader will create 8 worker processes in total. Our suggested max number of worker in current system is 5, which is smaller than what this DataLoader is going to create. Please be aware that excessive worker creation might get DataLoader running slow or even freeze, lower the worker number to avoid potential slowness/freeze if necessary.\n",
      "  warnings.warn(_create_warning_msg(\n"
     ]
    },
    {
     "name": "stdout",
     "output_type": "stream",
     "text": [
      "Validation Loss: 0.7639\n",
      "Validation Accuracy: 63.81%\n",
      "Checkpoint saved with validation loss 0.7639.\n"
     ]
    },
    {
     "name": "stderr",
     "output_type": "stream",
     "text": [
      "Epoch 2: 100%|██████████| 19588/19588 [14:08<00:00, 23.10it/s, acc=66.4591%, loss=0.7116, lr=0.000010, num_correct=13018]\n"
     ]
    },
    {
     "name": "stdout",
     "output_type": "stream",
     "text": [
      "Validation Loss: 0.7398\n",
      "Validation Accuracy: 65.52%\n",
      "Checkpoint saved with validation loss 0.7398.\n"
     ]
    },
    {
     "name": "stderr",
     "output_type": "stream",
     "text": [
      "Epoch 3: 100%|██████████| 19588/19588 [13:04<00:00, 24.96it/s, acc=68.3990%, loss=0.6792, lr=0.000010, num_correct=13398]\n"
     ]
    },
    {
     "name": "stdout",
     "output_type": "stream",
     "text": [
      "Validation Loss: 0.7235\n",
      "Validation Accuracy: 65.60%\n",
      "Checkpoint saved with validation loss 0.7235.\n"
     ]
    },
    {
     "name": "stderr",
     "output_type": "stream",
     "text": [
      "Epoch 4: 100%|██████████| 19588/19588 [14:54<00:00, 21.89it/s, acc=69.9816%, loss=0.6463, lr=0.000010, num_correct=13708]\n"
     ]
    },
    {
     "name": "stdout",
     "output_type": "stream",
     "text": [
      "Validation Loss: 0.6827\n",
      "Validation Accuracy: 67.32%\n",
      "Checkpoint saved with validation loss 0.6827.\n"
     ]
    },
    {
     "name": "stderr",
     "output_type": "stream",
     "text": [
      "Epoch 5: 100%|██████████| 19588/19588 [15:41<00:00, 20.81it/s, acc=70.3849%, loss=0.6329, lr=0.000010, num_correct=13787]\n"
     ]
    },
    {
     "name": "stdout",
     "output_type": "stream",
     "text": [
      "Validation Loss: 0.6866\n",
      "Validation Accuracy: 67.97%\n"
     ]
    },
    {
     "name": "stderr",
     "output_type": "stream",
     "text": [
      "Epoch 6: 100%|██████████| 19588/19588 [13:52<00:00, 23.54it/s, acc=71.2528%, loss=0.6102, lr=0.000010, num_correct=13957]\n"
     ]
    },
    {
     "name": "stdout",
     "output_type": "stream",
     "text": [
      "Validation Loss: 0.6796\n",
      "Validation Accuracy: 69.20%\n",
      "Checkpoint saved with validation loss 0.6796.\n"
     ]
    },
    {
     "name": "stderr",
     "output_type": "stream",
     "text": [
      "Epoch 7: 100%|██████████| 19588/19588 [13:44<00:00, 23.76it/s, acc=71.9369%, loss=0.5988, lr=0.000010, num_correct=14091]\n"
     ]
    },
    {
     "name": "stdout",
     "output_type": "stream",
     "text": [
      "Validation Loss: 0.6882\n",
      "Validation Accuracy: 69.85%\n"
     ]
    },
    {
     "name": "stderr",
     "output_type": "stream",
     "text": [
      "Epoch 8: 100%|██████████| 19588/19588 [14:29<00:00, 22.52it/s, acc=72.9784%, loss=0.5834, lr=0.000010, num_correct=14295] \n"
     ]
    },
    {
     "name": "stdout",
     "output_type": "stream",
     "text": [
      "Validation Loss: 0.6814\n",
      "Validation Accuracy: 67.73%\n",
      "Early stopping triggered after 8 epochs.\n",
      "Final model state saved to checkpoints/final_model_8.pth\n"
     ]
    }
   ],
   "source": [
    "train(model, train_loader, valid_loader, epochs=20)"
   ]
  },
  {
   "cell_type": "code",
   "execution_count": 4,
   "id": "09a96404-2afd-4442-a238-fa5ff2e9376c",
   "metadata": {
    "tags": []
   },
   "outputs": [
    {
     "name": "stderr",
     "output_type": "stream",
     "text": [
      "Epoch 1: 100%|██████████| 19588/19588 [09:14<00:00, 35.33it/s, acc=51.4652%, loss=0.9116, lr=0.0010000, num_correct=10081]"
     ]
    },
    {
     "name": "stdout",
     "output_type": "stream",
     "text": [
      "Training loss: 0.9116\n"
     ]
    },
    {
     "name": "stderr",
     "output_type": "stream",
     "text": [
      "\n"
     ]
    },
    {
     "name": "stdout",
     "output_type": "stream",
     "text": [
      "Validation Loss: 0.8618\n",
      "Validation Accuracy: 57.03%\n",
      "Epoch 1: Current Learning Rate: 0.001\n",
      "Checkpoint saved at epoch 1 with validation loss 0.8618\n"
     ]
    },
    {
     "name": "stderr",
     "output_type": "stream",
     "text": [
      "Epoch 2: 100%|██████████| 19588/19588 [09:22<00:00, 34.83it/s, acc=53.4715%, loss=0.8753, lr=0.0010000, num_correct=10474]"
     ]
    },
    {
     "name": "stdout",
     "output_type": "stream",
     "text": [
      "Training loss: 0.8753\n"
     ]
    },
    {
     "name": "stderr",
     "output_type": "stream",
     "text": [
      "\n"
     ]
    },
    {
     "name": "stdout",
     "output_type": "stream",
     "text": [
      "Validation Loss: 0.8825\n",
      "Validation Accuracy: 44.04%\n",
      "Epoch 2: Current Learning Rate: 0.001\n"
     ]
    },
    {
     "name": "stderr",
     "output_type": "stream",
     "text": [
      "Epoch 3: 100%|██████████| 19588/19588 [10:18<00:00, 31.65it/s, acc=54.4262%, loss=0.8603, lr=0.0010000, num_correct=10661]"
     ]
    },
    {
     "name": "stdout",
     "output_type": "stream",
     "text": [
      "Training loss: 0.8603\n"
     ]
    },
    {
     "name": "stderr",
     "output_type": "stream",
     "text": [
      "\n"
     ]
    },
    {
     "name": "stdout",
     "output_type": "stream",
     "text": [
      "Validation Loss: 0.9135\n",
      "Validation Accuracy: 42.97%\n",
      "Epoch 3: Current Learning Rate: 0.0001\n"
     ]
    },
    {
     "name": "stderr",
     "output_type": "stream",
     "text": [
      "Epoch 4: 100%|██████████| 19588/19588 [09:26<00:00, 34.59it/s, acc=55.5391%, loss=0.8399, lr=0.0001000, num_correct=10879]"
     ]
    },
    {
     "name": "stdout",
     "output_type": "stream",
     "text": [
      "Training loss: 0.8399\n"
     ]
    },
    {
     "name": "stderr",
     "output_type": "stream",
     "text": [
      "\n"
     ]
    },
    {
     "name": "stdout",
     "output_type": "stream",
     "text": [
      "Validation Loss: 0.8272\n",
      "Validation Accuracy: 58.25%\n",
      "Epoch 4: Current Learning Rate: 0.0001\n",
      "Checkpoint saved at epoch 4 with validation loss 0.8272\n"
     ]
    },
    {
     "name": "stderr",
     "output_type": "stream",
     "text": [
      "Epoch 5: 100%|██████████| 19588/19588 [09:05<00:00, 35.92it/s, acc=56.4070%, loss=0.8282, lr=0.0001000, num_correct=11049]"
     ]
    },
    {
     "name": "stdout",
     "output_type": "stream",
     "text": [
      "Training loss: 0.8282\n"
     ]
    },
    {
     "name": "stderr",
     "output_type": "stream",
     "text": [
      "\n"
     ]
    },
    {
     "name": "stdout",
     "output_type": "stream",
     "text": [
      "Validation Loss: 0.8262\n",
      "Validation Accuracy: 57.76%\n",
      "Epoch 5: Current Learning Rate: 0.0001\n",
      "Checkpoint saved at epoch 5 with validation loss 0.8262\n"
     ]
    },
    {
     "name": "stderr",
     "output_type": "stream",
     "text": [
      "Epoch 6: 100%|██████████| 19588/19588 [19:43<00:00, 16.55it/s, acc=56.5244%, loss=0.8229, lr=0.0001000, num_correct=11072] "
     ]
    },
    {
     "name": "stdout",
     "output_type": "stream",
     "text": [
      "Training loss: 0.8229\n"
     ]
    },
    {
     "name": "stderr",
     "output_type": "stream",
     "text": [
      "\n"
     ]
    },
    {
     "name": "stdout",
     "output_type": "stream",
     "text": [
      "Validation Loss: 0.8310\n",
      "Validation Accuracy: 58.82%\n",
      "Epoch 6: Current Learning Rate: 0.0001\n"
     ]
    },
    {
     "name": "stderr",
     "output_type": "stream",
     "text": [
      "Epoch 7: 100%|██████████| 19588/19588 [10:04<00:00, 32.38it/s, acc=57.3259%, loss=0.8199, lr=0.0001000, num_correct=11229]"
     ]
    },
    {
     "name": "stdout",
     "output_type": "stream",
     "text": [
      "Training loss: 0.8199\n"
     ]
    },
    {
     "name": "stderr",
     "output_type": "stream",
     "text": [
      "\n"
     ]
    },
    {
     "name": "stdout",
     "output_type": "stream",
     "text": [
      "Validation Loss: 0.8142\n",
      "Validation Accuracy: 58.74%\n",
      "Epoch 7: Current Learning Rate: 0.0001\n",
      "Checkpoint saved at epoch 7 with validation loss 0.8142\n"
     ]
    },
    {
     "name": "stderr",
     "output_type": "stream",
     "text": [
      "Epoch 8: 100%|██████████| 19588/19588 [09:28<00:00, 34.47it/s, acc=57.4076%, loss=0.8182, lr=0.0001000, num_correct=11245]"
     ]
    },
    {
     "name": "stdout",
     "output_type": "stream",
     "text": [
      "Training loss: 0.8182\n"
     ]
    },
    {
     "name": "stderr",
     "output_type": "stream",
     "text": [
      "\n"
     ]
    },
    {
     "name": "stdout",
     "output_type": "stream",
     "text": [
      "Validation Loss: 0.8138\n",
      "Validation Accuracy: 58.17%\n",
      "Epoch 8: Current Learning Rate: 0.0001\n",
      "Checkpoint saved at epoch 8 with validation loss 0.8138\n"
     ]
    },
    {
     "name": "stderr",
     "output_type": "stream",
     "text": [
      "Epoch 9: 100%|██████████| 19588/19588 [11:30<00:00, 28.38it/s, acc=57.4127%, loss=0.8155, lr=0.0001000, num_correct=11246]"
     ]
    },
    {
     "name": "stdout",
     "output_type": "stream",
     "text": [
      "Training loss: 0.8155\n"
     ]
    },
    {
     "name": "stderr",
     "output_type": "stream",
     "text": [
      "\n"
     ]
    },
    {
     "name": "stdout",
     "output_type": "stream",
     "text": [
      "Validation Loss: 0.8178\n",
      "Validation Accuracy: 58.01%\n",
      "Epoch 9: Current Learning Rate: 0.0001\n"
     ]
    },
    {
     "name": "stderr",
     "output_type": "stream",
     "text": [
      "Epoch 10: 100%|██████████| 19588/19588 [09:11<00:00, 35.54it/s, acc=57.4331%, loss=0.8135, lr=0.0001000, num_correct=11250]"
     ]
    },
    {
     "name": "stdout",
     "output_type": "stream",
     "text": [
      "Training loss: 0.8135\n"
     ]
    },
    {
     "name": "stderr",
     "output_type": "stream",
     "text": [
      "\n"
     ]
    },
    {
     "name": "stdout",
     "output_type": "stream",
     "text": [
      "Validation Loss: 0.8112\n",
      "Validation Accuracy: 58.42%\n",
      "Epoch 10: Current Learning Rate: 0.0001\n",
      "Checkpoint saved at epoch 10 with validation loss 0.8112\n"
     ]
    },
    {
     "name": "stderr",
     "output_type": "stream",
     "text": [
      "Epoch 11: 100%|██████████| 19588/19588 [10:34<00:00, 30.89it/s, acc=57.6935%, loss=0.8081, lr=0.0001000, num_correct=11301]"
     ]
    },
    {
     "name": "stdout",
     "output_type": "stream",
     "text": [
      "Training loss: 0.8081\n"
     ]
    },
    {
     "name": "stderr",
     "output_type": "stream",
     "text": [
      "\n"
     ]
    },
    {
     "name": "stdout",
     "output_type": "stream",
     "text": [
      "Validation Loss: 0.8158\n",
      "Validation Accuracy: 59.15%\n",
      "Epoch 11: Current Learning Rate: 0.0001\n"
     ]
    },
    {
     "name": "stderr",
     "output_type": "stream",
     "text": [
      "Epoch 12: 100%|██████████| 19588/19588 [09:34<00:00, 34.08it/s, acc=57.9845%, loss=0.8059, lr=0.0001000, num_correct=11358]"
     ]
    },
    {
     "name": "stdout",
     "output_type": "stream",
     "text": [
      "Training loss: 0.8059\n"
     ]
    },
    {
     "name": "stderr",
     "output_type": "stream",
     "text": [
      "\n"
     ]
    },
    {
     "name": "stdout",
     "output_type": "stream",
     "text": [
      "Validation Loss: 0.8138\n",
      "Validation Accuracy: 58.42%\n",
      "Epoch 12: Current Learning Rate: 1e-05\n"
     ]
    },
    {
     "name": "stderr",
     "output_type": "stream",
     "text": [
      "Epoch 13: 100%|██████████| 19588/19588 [09:43<00:00, 33.55it/s, acc=58.7247%, loss=0.7963, lr=0.0000100, num_correct=11503]"
     ]
    },
    {
     "name": "stdout",
     "output_type": "stream",
     "text": [
      "Training loss: 0.7963\n"
     ]
    },
    {
     "name": "stderr",
     "output_type": "stream",
     "text": [
      "\n"
     ]
    },
    {
     "name": "stdout",
     "output_type": "stream",
     "text": [
      "Validation Loss: 0.8083\n",
      "Validation Accuracy: 59.07%\n",
      "Epoch 13: Current Learning Rate: 1e-05\n",
      "Checkpoint saved at epoch 13 with validation loss 0.8083\n"
     ]
    },
    {
     "name": "stderr",
     "output_type": "stream",
     "text": [
      "Epoch 14: 100%|██████████| 19588/19588 [10:58<00:00, 29.76it/s, acc=58.7554%, loss=0.7934, lr=0.0000100, num_correct=11509]"
     ]
    },
    {
     "name": "stdout",
     "output_type": "stream",
     "text": [
      "Training loss: 0.7934\n"
     ]
    },
    {
     "name": "stderr",
     "output_type": "stream",
     "text": [
      "\n"
     ]
    },
    {
     "name": "stdout",
     "output_type": "stream",
     "text": [
      "Validation Loss: 0.8078\n",
      "Validation Accuracy: 59.97%\n",
      "Epoch 14: Current Learning Rate: 1e-05\n",
      "Checkpoint saved at epoch 14 with validation loss 0.8078\n"
     ]
    },
    {
     "name": "stderr",
     "output_type": "stream",
     "text": [
      "Epoch 15: 100%|██████████| 19588/19588 [10:35<00:00, 30.84it/s, acc=59.0412%, loss=0.7921, lr=0.0000100, num_correct=11565]"
     ]
    },
    {
     "name": "stdout",
     "output_type": "stream",
     "text": [
      "Training loss: 0.7921\n"
     ]
    },
    {
     "name": "stderr",
     "output_type": "stream",
     "text": [
      "\n"
     ]
    },
    {
     "name": "stdout",
     "output_type": "stream",
     "text": [
      "Validation Loss: 0.8090\n",
      "Validation Accuracy: 58.66%\n",
      "Epoch 15: Current Learning Rate: 1e-05\n"
     ]
    },
    {
     "name": "stderr",
     "output_type": "stream",
     "text": [
      "Epoch 16: 100%|██████████| 19588/19588 [10:18<00:00, 31.66it/s, acc=59.2046%, loss=0.7913, lr=0.0000100, num_correct=11597]"
     ]
    },
    {
     "name": "stdout",
     "output_type": "stream",
     "text": [
      "Training loss: 0.7913\n"
     ]
    },
    {
     "name": "stderr",
     "output_type": "stream",
     "text": [
      "\n"
     ]
    },
    {
     "name": "stdout",
     "output_type": "stream",
     "text": [
      "Validation Loss: 0.8125\n",
      "Validation Accuracy: 59.40%\n",
      "Epoch 16: Current Learning Rate: 1.0000000000000002e-06\n"
     ]
    },
    {
     "name": "stderr",
     "output_type": "stream",
     "text": [
      "Epoch 17: 100%|██████████| 19588/19588 [10:10<00:00, 32.06it/s, acc=59.1434%, loss=0.7906, lr=0.0000010, num_correct=11585]"
     ]
    },
    {
     "name": "stdout",
     "output_type": "stream",
     "text": [
      "Training loss: 0.7906\n"
     ]
    },
    {
     "name": "stderr",
     "output_type": "stream",
     "text": [
      "\n"
     ]
    },
    {
     "name": "stdout",
     "output_type": "stream",
     "text": [
      "Validation Loss: 0.8096\n",
      "Validation Accuracy: 59.48%\n",
      "Epoch 17: Current Learning Rate: 1.0000000000000002e-06\n"
     ]
    },
    {
     "name": "stderr",
     "output_type": "stream",
     "text": [
      "Epoch 18: 100%|██████████| 19588/19588 [11:06<00:00, 29.38it/s, acc=59.0668%, loss=0.7899, lr=0.0000010, num_correct=11570]"
     ]
    },
    {
     "name": "stdout",
     "output_type": "stream",
     "text": [
      "Training loss: 0.7899\n"
     ]
    },
    {
     "name": "stderr",
     "output_type": "stream",
     "text": [
      "\n"
     ]
    },
    {
     "name": "stdout",
     "output_type": "stream",
     "text": [
      "Validation Loss: 0.8097\n",
      "Validation Accuracy: 59.64%\n",
      "Epoch 18: Current Learning Rate: 1.0000000000000002e-07\n"
     ]
    },
    {
     "name": "stderr",
     "output_type": "stream",
     "text": [
      "Epoch 19: 100%|██████████| 19588/19588 [09:06<00:00, 35.84it/s, acc=59.0617%, loss=0.7903, lr=0.0000001, num_correct=11569]"
     ]
    },
    {
     "name": "stdout",
     "output_type": "stream",
     "text": [
      "Training loss: 0.7903\n"
     ]
    },
    {
     "name": "stderr",
     "output_type": "stream",
     "text": [
      "\n"
     ]
    },
    {
     "name": "stdout",
     "output_type": "stream",
     "text": [
      "Validation Loss: 0.8096\n",
      "Validation Accuracy: 59.64%\n",
      "Epoch 19: Current Learning Rate: 1.0000000000000002e-07\n"
     ]
    },
    {
     "name": "stderr",
     "output_type": "stream",
     "text": [
      "Epoch 20: 100%|██████████| 19588/19588 [10:34<00:00, 30.88it/s, acc=59.0259%, loss=0.7898, lr=0.0000001, num_correct=11562]"
     ]
    },
    {
     "name": "stdout",
     "output_type": "stream",
     "text": [
      "Training loss: 0.7898\n"
     ]
    },
    {
     "name": "stderr",
     "output_type": "stream",
     "text": [
      "\n"
     ]
    },
    {
     "name": "stdout",
     "output_type": "stream",
     "text": [
      "Validation Loss: 0.8097\n",
      "Validation Accuracy: 59.64%\n",
      "Epoch 20: Current Learning Rate: 1.0000000000000004e-08\n",
      "Final model state saved to checkpoints/final_model_20.pth\n"
     ]
    }
   ],
   "source": [
    "train(model, train_loader, valid_loader, epochs=20)"
   ]
  },
  {
   "cell_type": "code",
   "execution_count": null,
   "id": "30b23166-7207-4fe4-9395-0357f69291d7",
   "metadata": {},
   "outputs": [
    {
     "name": "stderr",
     "output_type": "stream",
     "text": [
      "Epoch 1: 100%|██████████| 19588/19588 [09:08<00:00, 35.72it/s, acc=51.5009%, loss=0.9166, lr=0.0010000, num_correct=10088]"
     ]
    },
    {
     "name": "stdout",
     "output_type": "stream",
     "text": [
      "Training loss: 0.9166\n"
     ]
    },
    {
     "name": "stderr",
     "output_type": "stream",
     "text": [
      "\n"
     ]
    },
    {
     "name": "stdout",
     "output_type": "stream",
     "text": [
      "Validation Loss: 0.9312\n",
      "Validation Accuracy: 47.39%\n",
      "Epoch 1: Current Learning Rate: 0.001\n",
      "Checkpoint saved at epoch 1 with validation loss 0.9312\n"
     ]
    },
    {
     "name": "stderr",
     "output_type": "stream",
     "text": [
      "Epoch 2: 100%|██████████| 19588/19588 [08:53<00:00, 36.70it/s, acc=53.1039%, loss=0.8793, lr=0.0010000, num_correct=10402]"
     ]
    },
    {
     "name": "stdout",
     "output_type": "stream",
     "text": [
      "Training loss: 0.8793\n"
     ]
    },
    {
     "name": "stderr",
     "output_type": "stream",
     "text": [
      "\n"
     ]
    },
    {
     "name": "stdout",
     "output_type": "stream",
     "text": [
      "Validation Loss: 0.8574\n",
      "Validation Accuracy: 57.52%\n",
      "Epoch 2: Current Learning Rate: 0.001\n",
      "Checkpoint saved at epoch 2 with validation loss 0.8574\n"
     ]
    },
    {
     "name": "stderr",
     "output_type": "stream",
     "text": [
      "Epoch 3: 100%|██████████| 19588/19588 [08:38<00:00, 37.77it/s, acc=53.3235%, loss=0.8870, lr=0.0010000, num_correct=10445]"
     ]
    },
    {
     "name": "stdout",
     "output_type": "stream",
     "text": [
      "Training loss: 0.8870\n"
     ]
    },
    {
     "name": "stderr",
     "output_type": "stream",
     "text": [
      "\n"
     ]
    },
    {
     "name": "stdout",
     "output_type": "stream",
     "text": [
      "Validation Loss: 0.8467\n",
      "Validation Accuracy: 57.11%\n",
      "Epoch 3: Current Learning Rate: 0.001\n",
      "Checkpoint saved at epoch 3 with validation loss 0.8467\n"
     ]
    },
    {
     "name": "stderr",
     "output_type": "stream",
     "text": [
      "Epoch 4: 100%|██████████| 19588/19588 [08:37<00:00, 37.89it/s, acc=54.2883%, loss=0.8701, lr=0.0010000, num_correct=10634]"
     ]
    },
    {
     "name": "stdout",
     "output_type": "stream",
     "text": [
      "Training loss: 0.8701\n"
     ]
    },
    {
     "name": "stderr",
     "output_type": "stream",
     "text": [
      "\n"
     ]
    }
   ],
   "source": [
    "train(model, train_loader, valid_loader, epochs=20)"
   ]
  }
 ],
 "metadata": {
  "kernelspec": {
   "display_name": "Python 3",
   "language": "python",
   "name": "python3"
  },
  "language_info": {
   "codemirror_mode": {
    "name": "ipython",
    "version": 3
   },
   "file_extension": ".py",
   "mimetype": "text/x-python",
   "name": "python",
   "nbconvert_exporter": "python",
   "pygments_lexer": "ipython3",
   "version": "3.9.13"
  }
 },
 "nbformat": 4,
 "nbformat_minor": 5
}
